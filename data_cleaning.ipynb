{
 "cells": [
  {
   "cell_type": "code",
   "execution_count": 1,
   "id": "73eff421-eb69-484c-b5a9-fee7938f6361",
   "metadata": {},
   "outputs": [],
   "source": [
    "import pandas as pd \n",
    "import numpy as np\n",
    "import matplotlib.pyplot as plt"
   ]
  },
  {
   "cell_type": "code",
   "execution_count": 2,
   "id": "fee024e0-8dd9-4d35-8324-fcd0090bb976",
   "metadata": {},
   "outputs": [],
   "source": [
    "df = pd.read_csv('data/The Worlds 100 Most Powerful Women.csv')"
   ]
  },
  {
   "cell_type": "code",
   "execution_count": 3,
   "id": "b18d43a1-2624-46e7-8b80-5925d02fd3c6",
   "metadata": {},
   "outputs": [
    {
     "data": {
      "text/html": [
       "<div>\n",
       "<style scoped>\n",
       "    .dataframe tbody tr th:only-of-type {\n",
       "        vertical-align: middle;\n",
       "    }\n",
       "\n",
       "    .dataframe tbody tr th {\n",
       "        vertical-align: top;\n",
       "    }\n",
       "\n",
       "    .dataframe thead th {\n",
       "        text-align: right;\n",
       "    }\n",
       "</style>\n",
       "<table border=\"1\" class=\"dataframe\">\n",
       "  <thead>\n",
       "    <tr style=\"text-align: right;\">\n",
       "      <th></th>\n",
       "      <th>RANK</th>\n",
       "      <th>NAME</th>\n",
       "      <th>AGE</th>\n",
       "      <th>LOCATION</th>\n",
       "      <th>CATEGORY</th>\n",
       "    </tr>\n",
       "  </thead>\n",
       "  <tbody>\n",
       "    <tr>\n",
       "      <th>0</th>\n",
       "      <td>1.0</td>\n",
       "      <td>Ursula von der Leyen</td>\n",
       "      <td>64</td>\n",
       "      <td>Belgium</td>\n",
       "      <td>Politics &amp; Policy</td>\n",
       "    </tr>\n",
       "    <tr>\n",
       "      <th>1</th>\n",
       "      <td>2.0</td>\n",
       "      <td>Christine Lagarde</td>\n",
       "      <td>66</td>\n",
       "      <td>Germany</td>\n",
       "      <td>Politics &amp; Policy</td>\n",
       "    </tr>\n",
       "    <tr>\n",
       "      <th>2</th>\n",
       "      <td>3.0</td>\n",
       "      <td>Kamala Harris</td>\n",
       "      <td>58</td>\n",
       "      <td>United States</td>\n",
       "      <td>Politics &amp; Policy</td>\n",
       "    </tr>\n",
       "    <tr>\n",
       "      <th>3</th>\n",
       "      <td>4.0</td>\n",
       "      <td>Mary Barra</td>\n",
       "      <td>60</td>\n",
       "      <td>United States</td>\n",
       "      <td>Business</td>\n",
       "    </tr>\n",
       "    <tr>\n",
       "      <th>4</th>\n",
       "      <td>5.0</td>\n",
       "      <td>Abigail Johnson</td>\n",
       "      <td>60</td>\n",
       "      <td>United States</td>\n",
       "      <td>Money</td>\n",
       "    </tr>\n",
       "  </tbody>\n",
       "</table>\n",
       "</div>"
      ],
      "text/plain": [
       "   RANK                  NAME AGE       LOCATION           CATEGORY\n",
       "0   1.0  Ursula von der Leyen  64        Belgium  Politics & Policy\n",
       "1   2.0     Christine Lagarde  66        Germany  Politics & Policy\n",
       "2   3.0         Kamala Harris  58  United States  Politics & Policy\n",
       "3   4.0            Mary Barra  60  United States           Business\n",
       "4   5.0       Abigail Johnson  60  United States              Money"
      ]
     },
     "execution_count": 3,
     "metadata": {},
     "output_type": "execute_result"
    }
   ],
   "source": [
    "df.head()"
   ]
  },
  {
   "cell_type": "code",
   "execution_count": 4,
   "id": "5cb80616-3a69-443b-bc2c-4114ca1bab2a",
   "metadata": {},
   "outputs": [
    {
     "data": {
      "text/plain": [
       "Business                 30\n",
       "Politics & Policy        22\n",
       "Finance                  12\n",
       "Media & Entertainment    11\n",
       "Technology                6\n",
       "Money                     4\n",
       "Philanthropy              4\n",
       "Entrepreneurs             4\n",
       "Impact                    2\n",
       "Lifestyle                 2\n",
       "Venture Capital           2\n",
       "Entertainment             1\n",
       "Name: CATEGORY, dtype: int64"
      ]
     },
     "execution_count": 4,
     "metadata": {},
     "output_type": "execute_result"
    }
   ],
   "source": [
    "df['CATEGORY'].value_counts()"
   ]
  },
  {
   "cell_type": "code",
   "execution_count": 5,
   "id": "c8d8b19a-5b39-48dd-aadf-cfbebfa43fa7",
   "metadata": {},
   "outputs": [
    {
     "data": {
      "text/plain": [
       "United States           50\n",
       "India                    6\n",
       "China                    5\n",
       "Germany                  4\n",
       "Australia                4\n",
       "United Kingdom           3\n",
       "Indonesia                2\n",
       "United Arab Emirates     2\n",
       "Japan                    2\n",
       "Nigeria                  2\n",
       "Singapore                2\n",
       "France                   2\n",
       "Turkey                   1\n",
       "Slovakia                 1\n",
       "Honduras                 1\n",
       "Tanzania                 1\n",
       "Barbados                 1\n",
       "South Korea              1\n",
       "Finland                  1\n",
       "Belgium                  1\n",
       "Denmark                  1\n",
       "Mexico                   1\n",
       "Bangladesh               1\n",
       "New Zealand              1\n",
       "Taiwan                   1\n",
       "Spain                    1\n",
       "Italy                    1\n",
       "Iran                     1\n",
       "Name: LOCATION, dtype: int64"
      ]
     },
     "execution_count": 5,
     "metadata": {},
     "output_type": "execute_result"
    }
   ],
   "source": [
    "df['LOCATION'].value_counts()"
   ]
  },
  {
   "cell_type": "code",
   "execution_count": null,
   "id": "f6e4501e-2b73-4c47-aa27-bf37b736b35e",
   "metadata": {},
   "outputs": [],
   "source": []
  }
 ],
 "metadata": {
  "kernelspec": {
   "display_name": "Python 3 (ipykernel)",
   "language": "python",
   "name": "python3"
  },
  "language_info": {
   "codemirror_mode": {
    "name": "ipython",
    "version": 3
   },
   "file_extension": ".py",
   "mimetype": "text/x-python",
   "name": "python",
   "nbconvert_exporter": "python",
   "pygments_lexer": "ipython3",
   "version": "3.10.8"
  }
 },
 "nbformat": 4,
 "nbformat_minor": 5
}
